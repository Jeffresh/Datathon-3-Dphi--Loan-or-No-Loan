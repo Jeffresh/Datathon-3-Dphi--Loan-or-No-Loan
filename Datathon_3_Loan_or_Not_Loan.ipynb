{
  "nbformat": 4,
  "nbformat_minor": 0,
  "metadata": {
    "colab": {
      "name": "Datathon_3_Loan_or_Not_Loan.ipynb",
      "provenance": [],
      "collapsed_sections": [],
      "toc_visible": true,
      "authorship_tag": "ABX9TyNpGRJd4zD7tqEKd0+JEq8N",
      "include_colab_link": true
    },
    "kernelspec": {
      "name": "python3",
      "display_name": "Python 3"
    }
  },
  "cells": [
    {
      "cell_type": "markdown",
      "metadata": {
        "id": "view-in-github",
        "colab_type": "text"
      },
      "source": [
        "<a href=\"https://colab.research.google.com/github/Jeffresh/Datathon-3-Dphi-Loan-or-No-Loan/blob/main/Datathon_3_Loan_or_Not_Loan.ipynb\" target=\"_parent\"><img src=\"https://colab.research.google.com/assets/colab-badge.svg\" alt=\"Open In Colab\"/></a>"
      ]
    },
    {
      "cell_type": "markdown",
      "metadata": {
        "id": "e27OOzkQMxtA"
      },
      "source": [
        "## Imports"
      ]
    },
    {
      "cell_type": "code",
      "metadata": {
        "id": "AIP_3hu9NQWX",
        "colab": {
          "base_uri": "https://localhost:8080/"
        },
        "outputId": "1840a67d-bae7-4bbc-80b9-701fc3c70e6d"
      },
      "source": [
        "!pip install shap\r\n",
        "import shap\r\n",
        "import numpy as np\r\n",
        "import pandas as pd\r\n",
        "import seaborn as sns\r\n",
        "\r\n",
        "from sklearn.model_selection import train_test_split\r\n",
        "\r\n",
        "from sklearn.preprocessing import StandardScaler, LabelBinarizer, OneHotEncoder\r\n",
        "from sklearn.compose import ColumnTransformer \r\n",
        "\r\n",
        "from sklearn.impute import SimpleImputer \r\n",
        "\r\n",
        "import xgboost as xgb\r\n",
        "\r\n",
        "from sklearn.metrics import f1_score"
      ],
      "execution_count": 423,
      "outputs": [
        {
          "output_type": "stream",
          "text": [
            "Requirement already satisfied: shap in /usr/local/lib/python3.6/dist-packages (0.37.0)\n",
            "Requirement already satisfied: numpy in /usr/local/lib/python3.6/dist-packages (from shap) (1.19.4)\n",
            "Requirement already satisfied: pandas in /usr/local/lib/python3.6/dist-packages (from shap) (1.1.5)\n",
            "Requirement already satisfied: tqdm>4.25.0 in /usr/local/lib/python3.6/dist-packages (from shap) (4.41.1)\n",
            "Requirement already satisfied: numba in /usr/local/lib/python3.6/dist-packages (from shap) (0.48.0)\n",
            "Requirement already satisfied: slicer==0.0.3 in /usr/local/lib/python3.6/dist-packages (from shap) (0.0.3)\n",
            "Requirement already satisfied: scikit-learn in /usr/local/lib/python3.6/dist-packages (from shap) (0.22.2.post1)\n",
            "Requirement already satisfied: scipy in /usr/local/lib/python3.6/dist-packages (from shap) (1.4.1)\n",
            "Requirement already satisfied: python-dateutil>=2.7.3 in /usr/local/lib/python3.6/dist-packages (from pandas->shap) (2.8.1)\n",
            "Requirement already satisfied: pytz>=2017.2 in /usr/local/lib/python3.6/dist-packages (from pandas->shap) (2018.9)\n",
            "Requirement already satisfied: llvmlite<0.32.0,>=0.31.0dev0 in /usr/local/lib/python3.6/dist-packages (from numba->shap) (0.31.0)\n",
            "Requirement already satisfied: setuptools in /usr/local/lib/python3.6/dist-packages (from numba->shap) (51.0.0)\n",
            "Requirement already satisfied: joblib>=0.11 in /usr/local/lib/python3.6/dist-packages (from scikit-learn->shap) (1.0.0)\n",
            "Requirement already satisfied: six>=1.5 in /usr/local/lib/python3.6/dist-packages (from python-dateutil>=2.7.3->pandas->shap) (1.15.0)\n"
          ],
          "name": "stdout"
        }
      ]
    },
    {
      "cell_type": "markdown",
      "metadata": {
        "id": "XITUiH12Nt-p"
      },
      "source": [
        "## Import Data"
      ]
    },
    {
      "cell_type": "code",
      "metadata": {
        "id": "Moy-ypofNeJ4"
      },
      "source": [
        "loan_data  = pd.read_csv(\"https://raw.githubusercontent.com/dphi-official/Datasets/master/Loan_Data/loan_train.csv\" )\r\n",
        "test_data = pd.read_csv('https://raw.githubusercontent.com/dphi-official/Datasets/master/Loan_Data/loan_test.csv')"
      ],
      "execution_count": 424,
      "outputs": []
    },
    {
      "cell_type": "markdown",
      "metadata": {
        "id": "fSyEW5N4OGZJ"
      },
      "source": [
        "## Basic Exploratory Data Analysis\r\n",
        "\r\n",
        "*   Features unnamed and loand_ID are irrelevant, we have to drop this.\r\n",
        "\r\n"
      ]
    },
    {
      "cell_type": "code",
      "metadata": {
        "colab": {
          "base_uri": "https://localhost:8080/",
          "height": 266
        },
        "id": "ljg2y2JzOLs_",
        "outputId": "b7315121-678d-4f00-a824-cda46d623167"
      },
      "source": [
        "loan_data.head()"
      ],
      "execution_count": 425,
      "outputs": [
        {
          "output_type": "execute_result",
          "data": {
            "text/html": [
              "<div>\n",
              "<style scoped>\n",
              "    .dataframe tbody tr th:only-of-type {\n",
              "        vertical-align: middle;\n",
              "    }\n",
              "\n",
              "    .dataframe tbody tr th {\n",
              "        vertical-align: top;\n",
              "    }\n",
              "\n",
              "    .dataframe thead th {\n",
              "        text-align: right;\n",
              "    }\n",
              "</style>\n",
              "<table border=\"1\" class=\"dataframe\">\n",
              "  <thead>\n",
              "    <tr style=\"text-align: right;\">\n",
              "      <th></th>\n",
              "      <th>Unnamed: 0</th>\n",
              "      <th>Loan_ID</th>\n",
              "      <th>Gender</th>\n",
              "      <th>Married</th>\n",
              "      <th>Dependents</th>\n",
              "      <th>Education</th>\n",
              "      <th>Self_Employed</th>\n",
              "      <th>ApplicantIncome</th>\n",
              "      <th>CoapplicantIncome</th>\n",
              "      <th>LoanAmount</th>\n",
              "      <th>Loan_Amount_Term</th>\n",
              "      <th>Credit_History</th>\n",
              "      <th>Property_Area</th>\n",
              "      <th>Loan_Status</th>\n",
              "    </tr>\n",
              "  </thead>\n",
              "  <tbody>\n",
              "    <tr>\n",
              "      <th>0</th>\n",
              "      <td>0</td>\n",
              "      <td>LP002305</td>\n",
              "      <td>Female</td>\n",
              "      <td>No</td>\n",
              "      <td>0</td>\n",
              "      <td>Graduate</td>\n",
              "      <td>No</td>\n",
              "      <td>4547</td>\n",
              "      <td>0.0</td>\n",
              "      <td>115.0</td>\n",
              "      <td>360.0</td>\n",
              "      <td>1.0</td>\n",
              "      <td>Semiurban</td>\n",
              "      <td>1</td>\n",
              "    </tr>\n",
              "    <tr>\n",
              "      <th>1</th>\n",
              "      <td>1</td>\n",
              "      <td>LP001715</td>\n",
              "      <td>Male</td>\n",
              "      <td>Yes</td>\n",
              "      <td>3+</td>\n",
              "      <td>Not Graduate</td>\n",
              "      <td>Yes</td>\n",
              "      <td>5703</td>\n",
              "      <td>0.0</td>\n",
              "      <td>130.0</td>\n",
              "      <td>360.0</td>\n",
              "      <td>1.0</td>\n",
              "      <td>Rural</td>\n",
              "      <td>1</td>\n",
              "    </tr>\n",
              "    <tr>\n",
              "      <th>2</th>\n",
              "      <td>2</td>\n",
              "      <td>LP002086</td>\n",
              "      <td>Female</td>\n",
              "      <td>Yes</td>\n",
              "      <td>0</td>\n",
              "      <td>Graduate</td>\n",
              "      <td>No</td>\n",
              "      <td>4333</td>\n",
              "      <td>2451.0</td>\n",
              "      <td>110.0</td>\n",
              "      <td>360.0</td>\n",
              "      <td>1.0</td>\n",
              "      <td>Urban</td>\n",
              "      <td>0</td>\n",
              "    </tr>\n",
              "    <tr>\n",
              "      <th>3</th>\n",
              "      <td>3</td>\n",
              "      <td>LP001136</td>\n",
              "      <td>Male</td>\n",
              "      <td>Yes</td>\n",
              "      <td>0</td>\n",
              "      <td>Not Graduate</td>\n",
              "      <td>Yes</td>\n",
              "      <td>4695</td>\n",
              "      <td>0.0</td>\n",
              "      <td>96.0</td>\n",
              "      <td>NaN</td>\n",
              "      <td>1.0</td>\n",
              "      <td>Urban</td>\n",
              "      <td>1</td>\n",
              "    </tr>\n",
              "    <tr>\n",
              "      <th>4</th>\n",
              "      <td>4</td>\n",
              "      <td>LP002529</td>\n",
              "      <td>Male</td>\n",
              "      <td>Yes</td>\n",
              "      <td>2</td>\n",
              "      <td>Graduate</td>\n",
              "      <td>No</td>\n",
              "      <td>6700</td>\n",
              "      <td>1750.0</td>\n",
              "      <td>230.0</td>\n",
              "      <td>300.0</td>\n",
              "      <td>1.0</td>\n",
              "      <td>Semiurban</td>\n",
              "      <td>1</td>\n",
              "    </tr>\n",
              "  </tbody>\n",
              "</table>\n",
              "</div>"
            ],
            "text/plain": [
              "   Unnamed: 0   Loan_ID  Gender  ... Credit_History Property_Area Loan_Status\n",
              "0           0  LP002305  Female  ...            1.0     Semiurban           1\n",
              "1           1  LP001715    Male  ...            1.0         Rural           1\n",
              "2           2  LP002086  Female  ...            1.0         Urban           0\n",
              "3           3  LP001136    Male  ...            1.0         Urban           1\n",
              "4           4  LP002529    Male  ...            1.0     Semiurban           1\n",
              "\n",
              "[5 rows x 14 columns]"
            ]
          },
          "metadata": {
            "tags": []
          },
          "execution_count": 425
        }
      ]
    },
    {
      "cell_type": "code",
      "metadata": {
        "colab": {
          "base_uri": "https://localhost:8080/",
          "height": 402
        },
        "id": "WmznZVZhPEBf",
        "outputId": "e784071d-2595-4e53-9f5b-0cd40f875718"
      },
      "source": [
        "data = loan_data.drop(columns=['Unnamed: 0', 'Loan_ID'])\r\n",
        "data"
      ],
      "execution_count": 426,
      "outputs": [
        {
          "output_type": "execute_result",
          "data": {
            "text/html": [
              "<div>\n",
              "<style scoped>\n",
              "    .dataframe tbody tr th:only-of-type {\n",
              "        vertical-align: middle;\n",
              "    }\n",
              "\n",
              "    .dataframe tbody tr th {\n",
              "        vertical-align: top;\n",
              "    }\n",
              "\n",
              "    .dataframe thead th {\n",
              "        text-align: right;\n",
              "    }\n",
              "</style>\n",
              "<table border=\"1\" class=\"dataframe\">\n",
              "  <thead>\n",
              "    <tr style=\"text-align: right;\">\n",
              "      <th></th>\n",
              "      <th>Gender</th>\n",
              "      <th>Married</th>\n",
              "      <th>Dependents</th>\n",
              "      <th>Education</th>\n",
              "      <th>Self_Employed</th>\n",
              "      <th>ApplicantIncome</th>\n",
              "      <th>CoapplicantIncome</th>\n",
              "      <th>LoanAmount</th>\n",
              "      <th>Loan_Amount_Term</th>\n",
              "      <th>Credit_History</th>\n",
              "      <th>Property_Area</th>\n",
              "      <th>Loan_Status</th>\n",
              "    </tr>\n",
              "  </thead>\n",
              "  <tbody>\n",
              "    <tr>\n",
              "      <th>0</th>\n",
              "      <td>Female</td>\n",
              "      <td>No</td>\n",
              "      <td>0</td>\n",
              "      <td>Graduate</td>\n",
              "      <td>No</td>\n",
              "      <td>4547</td>\n",
              "      <td>0.0</td>\n",
              "      <td>115.0</td>\n",
              "      <td>360.0</td>\n",
              "      <td>1.0</td>\n",
              "      <td>Semiurban</td>\n",
              "      <td>1</td>\n",
              "    </tr>\n",
              "    <tr>\n",
              "      <th>1</th>\n",
              "      <td>Male</td>\n",
              "      <td>Yes</td>\n",
              "      <td>3+</td>\n",
              "      <td>Not Graduate</td>\n",
              "      <td>Yes</td>\n",
              "      <td>5703</td>\n",
              "      <td>0.0</td>\n",
              "      <td>130.0</td>\n",
              "      <td>360.0</td>\n",
              "      <td>1.0</td>\n",
              "      <td>Rural</td>\n",
              "      <td>1</td>\n",
              "    </tr>\n",
              "    <tr>\n",
              "      <th>2</th>\n",
              "      <td>Female</td>\n",
              "      <td>Yes</td>\n",
              "      <td>0</td>\n",
              "      <td>Graduate</td>\n",
              "      <td>No</td>\n",
              "      <td>4333</td>\n",
              "      <td>2451.0</td>\n",
              "      <td>110.0</td>\n",
              "      <td>360.0</td>\n",
              "      <td>1.0</td>\n",
              "      <td>Urban</td>\n",
              "      <td>0</td>\n",
              "    </tr>\n",
              "    <tr>\n",
              "      <th>3</th>\n",
              "      <td>Male</td>\n",
              "      <td>Yes</td>\n",
              "      <td>0</td>\n",
              "      <td>Not Graduate</td>\n",
              "      <td>Yes</td>\n",
              "      <td>4695</td>\n",
              "      <td>0.0</td>\n",
              "      <td>96.0</td>\n",
              "      <td>NaN</td>\n",
              "      <td>1.0</td>\n",
              "      <td>Urban</td>\n",
              "      <td>1</td>\n",
              "    </tr>\n",
              "    <tr>\n",
              "      <th>4</th>\n",
              "      <td>Male</td>\n",
              "      <td>Yes</td>\n",
              "      <td>2</td>\n",
              "      <td>Graduate</td>\n",
              "      <td>No</td>\n",
              "      <td>6700</td>\n",
              "      <td>1750.0</td>\n",
              "      <td>230.0</td>\n",
              "      <td>300.0</td>\n",
              "      <td>1.0</td>\n",
              "      <td>Semiurban</td>\n",
              "      <td>1</td>\n",
              "    </tr>\n",
              "    <tr>\n",
              "      <th>...</th>\n",
              "      <td>...</td>\n",
              "      <td>...</td>\n",
              "      <td>...</td>\n",
              "      <td>...</td>\n",
              "      <td>...</td>\n",
              "      <td>...</td>\n",
              "      <td>...</td>\n",
              "      <td>...</td>\n",
              "      <td>...</td>\n",
              "      <td>...</td>\n",
              "      <td>...</td>\n",
              "      <td>...</td>\n",
              "    </tr>\n",
              "    <tr>\n",
              "      <th>486</th>\n",
              "      <td>NaN</td>\n",
              "      <td>Yes</td>\n",
              "      <td>1</td>\n",
              "      <td>Graduate</td>\n",
              "      <td>Yes</td>\n",
              "      <td>9833</td>\n",
              "      <td>1833.0</td>\n",
              "      <td>182.0</td>\n",
              "      <td>180.0</td>\n",
              "      <td>1.0</td>\n",
              "      <td>Urban</td>\n",
              "      <td>1</td>\n",
              "    </tr>\n",
              "    <tr>\n",
              "      <th>487</th>\n",
              "      <td>Female</td>\n",
              "      <td>No</td>\n",
              "      <td>1</td>\n",
              "      <td>Graduate</td>\n",
              "      <td>No</td>\n",
              "      <td>3812</td>\n",
              "      <td>0.0</td>\n",
              "      <td>112.0</td>\n",
              "      <td>360.0</td>\n",
              "      <td>1.0</td>\n",
              "      <td>Rural</td>\n",
              "      <td>1</td>\n",
              "    </tr>\n",
              "    <tr>\n",
              "      <th>488</th>\n",
              "      <td>Male</td>\n",
              "      <td>Yes</td>\n",
              "      <td>1</td>\n",
              "      <td>Graduate</td>\n",
              "      <td>No</td>\n",
              "      <td>14583</td>\n",
              "      <td>0.0</td>\n",
              "      <td>185.0</td>\n",
              "      <td>180.0</td>\n",
              "      <td>1.0</td>\n",
              "      <td>Rural</td>\n",
              "      <td>1</td>\n",
              "    </tr>\n",
              "    <tr>\n",
              "      <th>489</th>\n",
              "      <td>Male</td>\n",
              "      <td>No</td>\n",
              "      <td>0</td>\n",
              "      <td>Graduate</td>\n",
              "      <td>No</td>\n",
              "      <td>1836</td>\n",
              "      <td>33837.0</td>\n",
              "      <td>90.0</td>\n",
              "      <td>360.0</td>\n",
              "      <td>1.0</td>\n",
              "      <td>Urban</td>\n",
              "      <td>0</td>\n",
              "    </tr>\n",
              "    <tr>\n",
              "      <th>490</th>\n",
              "      <td>Male</td>\n",
              "      <td>Yes</td>\n",
              "      <td>0</td>\n",
              "      <td>Graduate</td>\n",
              "      <td>No</td>\n",
              "      <td>2785</td>\n",
              "      <td>2016.0</td>\n",
              "      <td>110.0</td>\n",
              "      <td>360.0</td>\n",
              "      <td>1.0</td>\n",
              "      <td>Rural</td>\n",
              "      <td>1</td>\n",
              "    </tr>\n",
              "  </tbody>\n",
              "</table>\n",
              "<p>491 rows × 12 columns</p>\n",
              "</div>"
            ],
            "text/plain": [
              "     Gender Married Dependents  ... Credit_History Property_Area  Loan_Status\n",
              "0    Female      No          0  ...            1.0     Semiurban            1\n",
              "1      Male     Yes         3+  ...            1.0         Rural            1\n",
              "2    Female     Yes          0  ...            1.0         Urban            0\n",
              "3      Male     Yes          0  ...            1.0         Urban            1\n",
              "4      Male     Yes          2  ...            1.0     Semiurban            1\n",
              "..      ...     ...        ...  ...            ...           ...          ...\n",
              "486     NaN     Yes          1  ...            1.0         Urban            1\n",
              "487  Female      No          1  ...            1.0         Rural            1\n",
              "488    Male     Yes          1  ...            1.0         Rural            1\n",
              "489    Male      No          0  ...            1.0         Urban            0\n",
              "490    Male     Yes          0  ...            1.0         Rural            1\n",
              "\n",
              "[491 rows x 12 columns]"
            ]
          },
          "metadata": {
            "tags": []
          },
          "execution_count": 426
        }
      ]
    },
    {
      "cell_type": "code",
      "metadata": {
        "colab": {
          "base_uri": "https://localhost:8080/"
        },
        "id": "pURFUr2iPYwJ",
        "outputId": "8db15933-6fe2-46a0-ec32-7784beae7f05"
      },
      "source": [
        "data.info()"
      ],
      "execution_count": 427,
      "outputs": [
        {
          "output_type": "stream",
          "text": [
            "<class 'pandas.core.frame.DataFrame'>\n",
            "RangeIndex: 491 entries, 0 to 490\n",
            "Data columns (total 12 columns):\n",
            " #   Column             Non-Null Count  Dtype  \n",
            "---  ------             --------------  -----  \n",
            " 0   Gender             481 non-null    object \n",
            " 1   Married            490 non-null    object \n",
            " 2   Dependents         482 non-null    object \n",
            " 3   Education          491 non-null    object \n",
            " 4   Self_Employed      462 non-null    object \n",
            " 5   ApplicantIncome    491 non-null    int64  \n",
            " 6   CoapplicantIncome  491 non-null    float64\n",
            " 7   LoanAmount         475 non-null    float64\n",
            " 8   Loan_Amount_Term   478 non-null    float64\n",
            " 9   Credit_History     448 non-null    float64\n",
            " 10  Property_Area      491 non-null    object \n",
            " 11  Loan_Status        491 non-null    int64  \n",
            "dtypes: float64(4), int64(2), object(6)\n",
            "memory usage: 46.2+ KB\n"
          ],
          "name": "stdout"
        }
      ]
    },
    {
      "cell_type": "markdown",
      "metadata": {
        "id": "XW9xNOsQ0Ea6"
      },
      "source": [
        "## Divide data/target"
      ]
    },
    {
      "cell_type": "code",
      "metadata": {
        "id": "yjrssqzO0JRE"
      },
      "source": [
        "X = data.drop(columns='Loan_Status')\r\n",
        "y = data['Loan_Status']\r\n",
        "\r\n",
        "X_train, X_test, y_train, y_test = train_test_split(X, y, test_size = 0.3, random_state=123, stratify=y, shuffle=True)"
      ],
      "execution_count": 428,
      "outputs": []
    },
    {
      "cell_type": "markdown",
      "metadata": {
        "id": "3bc1EPYByKll"
      },
      "source": [
        "## Function to get dataframe  with null numeric|categorical features to preprocess/impute"
      ]
    },
    {
      "cell_type": "code",
      "metadata": {
        "id": "a33HPaNhOh5E"
      },
      "source": [
        "def divide_per_type(data, dtype):\r\n",
        "  cols = data.select_dtypes([dtype]).columns\r\n",
        "  return data[cols], cols\r\n",
        "\r\n",
        "\r\n",
        "def get_null_cols(data, dtype):\r\n",
        "  null_value_columns =[y for x, y in zip(data.isnull().sum(), data.isnull().sum().index) if x > 0]\r\n",
        "  _, cols = divide_per_type(data, dtype)\r\n",
        "  null_cols = [x for x in cols if x in null_value_columns]\r\n",
        "  \r\n",
        "  return data[null_cols]"
      ],
      "execution_count": 429,
      "outputs": []
    },
    {
      "cell_type": "markdown",
      "metadata": {
        "id": "bHZAQ5Qn2Fhw"
      },
      "source": [
        "## Handling missing values data"
      ]
    },
    {
      "cell_type": "code",
      "metadata": {
        "id": "s0DHLGwL2Je9"
      },
      "source": [
        "def handle_missing_values(data):\r\n",
        "  cat_data = get_null_cols(data, 'object')\r\n",
        "  num_data = get_null_cols(data, 'number')\r\n",
        "  imputer_cat = SimpleImputer(missing_values=np.nan, strategy='most_frequent').fit(data[cat_data.columns])\r\n",
        "  imputer_num = SimpleImputer(missing_values=np.nan, strategy='median').fit(data[num_data.columns])\r\n",
        "  dat_cat = imputer_cat.transform(cat_data)\r\n",
        "  dat_num = imputer_num.transform(num_data)\r\n",
        "\r\n",
        "\r\n",
        "  for i, col in enumerate(cat_data.columns): \r\n",
        "    data[col] = dat_cat[:,i].ravel()\r\n",
        "\r\n",
        "  for i, col in enumerate(num_data.columns):\r\n",
        "    data[col] = dat_num[:,i].ravel()\r\n"
      ],
      "execution_count": 430,
      "outputs": []
    },
    {
      "cell_type": "code",
      "metadata": {
        "colab": {
          "base_uri": "https://localhost:8080/"
        },
        "id": "s3nlusOoEEQL",
        "outputId": "3359f7ce-cc59-4696-f134-ab9d27b3fda1"
      },
      "source": [
        "handle_missing_values(X_train)"
      ],
      "execution_count": 431,
      "outputs": [
        {
          "output_type": "stream",
          "text": [
            "\n",
            "A value is trying to be set on a copy of a slice from a DataFrame.\n",
            "Try using .loc[row_indexer,col_indexer] = value instead\n",
            "\n",
            "See the caveats in the documentation: https://pandas.pydata.org/pandas-docs/stable/user_guide/indexing.html#returning-a-view-versus-a-copy\n",
            "\n",
            "A value is trying to be set on a copy of a slice from a DataFrame.\n",
            "Try using .loc[row_indexer,col_indexer] = value instead\n",
            "\n",
            "See the caveats in the documentation: https://pandas.pydata.org/pandas-docs/stable/user_guide/indexing.html#returning-a-view-versus-a-copy\n"
          ],
          "name": "stderr"
        }
      ]
    },
    {
      "cell_type": "markdown",
      "metadata": {
        "id": "d0WbrEnuDI5d"
      },
      "source": [
        "## Dealing with categorical data"
      ]
    },
    {
      "cell_type": "code",
      "metadata": {
        "id": "3LuEJ-so75zd"
      },
      "source": [
        "def map_dependents(data):\r\n",
        "  map_dependents = {'0': 0, '1': 1, '2':2, '3+':3}\r\n",
        "  data['Dependents'] = data['Dependents'].map(map_dependents)"
      ],
      "execution_count": 432,
      "outputs": []
    },
    {
      "cell_type": "code",
      "metadata": {
        "colab": {
          "base_uri": "https://localhost:8080/"
        },
        "id": "HLstGmzJU99B",
        "outputId": "41866919-b3c9-466f-eb9c-bce2dcb4ee97"
      },
      "source": [
        "X_train['Dependents'].value_counts()"
      ],
      "execution_count": 433,
      "outputs": [
        {
          "output_type": "execute_result",
          "data": {
            "text/plain": [
              "0     200\n",
              "1      56\n",
              "2      56\n",
              "3+     31\n",
              "Name: Dependents, dtype: int64"
            ]
          },
          "metadata": {
            "tags": []
          },
          "execution_count": 433
        }
      ]
    },
    {
      "cell_type": "code",
      "metadata": {
        "colab": {
          "base_uri": "https://localhost:8080/"
        },
        "id": "-mXBzHeqWA5x",
        "outputId": "b31e7df4-13f8-4c7d-9918-df02e7b1f12f"
      },
      "source": [
        "map_dependents(X_train)"
      ],
      "execution_count": 434,
      "outputs": [
        {
          "output_type": "stream",
          "text": [
            "\n",
            "A value is trying to be set on a copy of a slice from a DataFrame.\n",
            "Try using .loc[row_indexer,col_indexer] = value instead\n",
            "\n",
            "See the caveats in the documentation: https://pandas.pydata.org/pandas-docs/stable/user_guide/indexing.html#returning-a-view-versus-a-copy\n"
          ],
          "name": "stderr"
        }
      ]
    },
    {
      "cell_type": "code",
      "metadata": {
        "colab": {
          "base_uri": "https://localhost:8080/"
        },
        "id": "vkd4kAgVZjRQ",
        "outputId": "760c4977-d07e-4855-9993-59e3351cd6d7"
      },
      "source": [
        "X_train['Dependents']"
      ],
      "execution_count": 435,
      "outputs": [
        {
          "output_type": "execute_result",
          "data": {
            "text/plain": [
              "261    0\n",
              "97     0\n",
              "257    0\n",
              "428    2\n",
              "266    0\n",
              "      ..\n",
              "226    0\n",
              "401    1\n",
              "78     2\n",
              "378    2\n",
              "298    2\n",
              "Name: Dependents, Length: 343, dtype: int64"
            ]
          },
          "metadata": {
            "tags": []
          },
          "execution_count": 435
        }
      ]
    },
    {
      "cell_type": "code",
      "metadata": {
        "id": "Z3v50lYaZqKM"
      },
      "source": [
        "def need_hot_encoding(data):\r\n",
        "  _ , cat_cols = divide_per_type(data, 'object')\r\n",
        "  for cols in cat_cols:\r\n",
        "    print(\"*\"*10 + cols + \"*\"*10)\r\n",
        "    print(data[cols].value_counts().shape[0] == 2)\r\n",
        "\r\n",
        "def handle_cat_data(data):\r\n",
        "  enc = LabelBinarizer()\r\n",
        "  enc_h = OneHotEncoder(handle_unknown='ignore')\r\n",
        "  _ , cat_cols = divide_per_type(data, 'object')\r\n",
        "\r\n",
        "  print(cat_cols)\r\n",
        "\r\n",
        "  for col in cat_cols:\r\n",
        "    print(col)\r\n",
        "    if data[col].value_counts().shape[0] <= 2:\r\n",
        "      enc.fit(data[col])\r\n",
        "      df = pd.DataFrame(enc.transform(data[col]), columns=[col])\r\n",
        "      df.index = data.index\r\n",
        "      data = data.drop(columns=col)\r\n",
        "      data = pd.concat([data, df], axis=1)\r\n",
        " \r\n",
        "    elif data[col].value_counts().shape[0] > 2:\r\n",
        "      values = enc_h.fit_transform(data[[col]]).toarray()\r\n",
        "      cols = [col+'_'+str(x) for x in range(values.shape[1])]\r\n",
        "      df = pd.DataFrame(data= values, columns=cols)\r\n",
        "      df.index = data.index\r\n",
        "      data = data.drop(columns=col)\r\n",
        "      data = pd.concat([data, df], axis=1)\r\n",
        "  \r\n",
        "  return data\r\n",
        "\r\n"
      ],
      "execution_count": 436,
      "outputs": []
    },
    {
      "cell_type": "code",
      "metadata": {
        "id": "rV3-DxiioB3k"
      },
      "source": [
        "# need_hot_encoding(X_train)"
      ],
      "execution_count": 437,
      "outputs": []
    },
    {
      "cell_type": "code",
      "metadata": {
        "colab": {
          "base_uri": "https://localhost:8080/",
          "height": 522
        },
        "id": "i1kOG24MqEBb",
        "outputId": "80ef15f2-f2aa-4105-e915-1608504dc385"
      },
      "source": [
        "X_train = handle_cat_data(X_train)\r\n",
        "X_train"
      ],
      "execution_count": 438,
      "outputs": [
        {
          "output_type": "stream",
          "text": [
            "Index(['Gender', 'Married', 'Education', 'Self_Employed', 'Property_Area'], dtype='object')\n",
            "Gender\n",
            "Married\n",
            "Education\n",
            "Self_Employed\n",
            "Property_Area\n"
          ],
          "name": "stdout"
        },
        {
          "output_type": "execute_result",
          "data": {
            "text/html": [
              "<div>\n",
              "<style scoped>\n",
              "    .dataframe tbody tr th:only-of-type {\n",
              "        vertical-align: middle;\n",
              "    }\n",
              "\n",
              "    .dataframe tbody tr th {\n",
              "        vertical-align: top;\n",
              "    }\n",
              "\n",
              "    .dataframe thead th {\n",
              "        text-align: right;\n",
              "    }\n",
              "</style>\n",
              "<table border=\"1\" class=\"dataframe\">\n",
              "  <thead>\n",
              "    <tr style=\"text-align: right;\">\n",
              "      <th></th>\n",
              "      <th>Dependents</th>\n",
              "      <th>ApplicantIncome</th>\n",
              "      <th>CoapplicantIncome</th>\n",
              "      <th>LoanAmount</th>\n",
              "      <th>Loan_Amount_Term</th>\n",
              "      <th>Credit_History</th>\n",
              "      <th>Gender</th>\n",
              "      <th>Married</th>\n",
              "      <th>Education</th>\n",
              "      <th>Self_Employed</th>\n",
              "      <th>Property_Area_0</th>\n",
              "      <th>Property_Area_1</th>\n",
              "      <th>Property_Area_2</th>\n",
              "    </tr>\n",
              "  </thead>\n",
              "  <tbody>\n",
              "    <tr>\n",
              "      <th>261</th>\n",
              "      <td>0</td>\n",
              "      <td>20833</td>\n",
              "      <td>6667.0</td>\n",
              "      <td>480.0</td>\n",
              "      <td>360.0</td>\n",
              "      <td>1.0</td>\n",
              "      <td>1</td>\n",
              "      <td>1</td>\n",
              "      <td>0</td>\n",
              "      <td>0</td>\n",
              "      <td>0.0</td>\n",
              "      <td>0.0</td>\n",
              "      <td>1.0</td>\n",
              "    </tr>\n",
              "    <tr>\n",
              "      <th>97</th>\n",
              "      <td>0</td>\n",
              "      <td>5695</td>\n",
              "      <td>4167.0</td>\n",
              "      <td>175.0</td>\n",
              "      <td>360.0</td>\n",
              "      <td>1.0</td>\n",
              "      <td>1</td>\n",
              "      <td>1</td>\n",
              "      <td>0</td>\n",
              "      <td>0</td>\n",
              "      <td>0.0</td>\n",
              "      <td>1.0</td>\n",
              "      <td>0.0</td>\n",
              "    </tr>\n",
              "    <tr>\n",
              "      <th>257</th>\n",
              "      <td>0</td>\n",
              "      <td>2929</td>\n",
              "      <td>2333.0</td>\n",
              "      <td>139.0</td>\n",
              "      <td>360.0</td>\n",
              "      <td>1.0</td>\n",
              "      <td>0</td>\n",
              "      <td>1</td>\n",
              "      <td>0</td>\n",
              "      <td>0</td>\n",
              "      <td>0.0</td>\n",
              "      <td>1.0</td>\n",
              "      <td>0.0</td>\n",
              "    </tr>\n",
              "    <tr>\n",
              "      <th>428</th>\n",
              "      <td>2</td>\n",
              "      <td>2500</td>\n",
              "      <td>1840.0</td>\n",
              "      <td>109.0</td>\n",
              "      <td>360.0</td>\n",
              "      <td>1.0</td>\n",
              "      <td>1</td>\n",
              "      <td>1</td>\n",
              "      <td>0</td>\n",
              "      <td>0</td>\n",
              "      <td>0.0</td>\n",
              "      <td>0.0</td>\n",
              "      <td>1.0</td>\n",
              "    </tr>\n",
              "    <tr>\n",
              "      <th>266</th>\n",
              "      <td>0</td>\n",
              "      <td>3366</td>\n",
              "      <td>2200.0</td>\n",
              "      <td>135.0</td>\n",
              "      <td>360.0</td>\n",
              "      <td>1.0</td>\n",
              "      <td>1</td>\n",
              "      <td>1</td>\n",
              "      <td>0</td>\n",
              "      <td>0</td>\n",
              "      <td>1.0</td>\n",
              "      <td>0.0</td>\n",
              "      <td>0.0</td>\n",
              "    </tr>\n",
              "    <tr>\n",
              "      <th>...</th>\n",
              "      <td>...</td>\n",
              "      <td>...</td>\n",
              "      <td>...</td>\n",
              "      <td>...</td>\n",
              "      <td>...</td>\n",
              "      <td>...</td>\n",
              "      <td>...</td>\n",
              "      <td>...</td>\n",
              "      <td>...</td>\n",
              "      <td>...</td>\n",
              "      <td>...</td>\n",
              "      <td>...</td>\n",
              "      <td>...</td>\n",
              "    </tr>\n",
              "    <tr>\n",
              "      <th>226</th>\n",
              "      <td>0</td>\n",
              "      <td>5050</td>\n",
              "      <td>0.0</td>\n",
              "      <td>118.0</td>\n",
              "      <td>360.0</td>\n",
              "      <td>1.0</td>\n",
              "      <td>1</td>\n",
              "      <td>0</td>\n",
              "      <td>0</td>\n",
              "      <td>0</td>\n",
              "      <td>0.0</td>\n",
              "      <td>1.0</td>\n",
              "      <td>0.0</td>\n",
              "    </tr>\n",
              "    <tr>\n",
              "      <th>401</th>\n",
              "      <td>1</td>\n",
              "      <td>7250</td>\n",
              "      <td>1667.0</td>\n",
              "      <td>110.0</td>\n",
              "      <td>360.0</td>\n",
              "      <td>0.0</td>\n",
              "      <td>1</td>\n",
              "      <td>1</td>\n",
              "      <td>0</td>\n",
              "      <td>0</td>\n",
              "      <td>0.0</td>\n",
              "      <td>0.0</td>\n",
              "      <td>1.0</td>\n",
              "    </tr>\n",
              "    <tr>\n",
              "      <th>78</th>\n",
              "      <td>2</td>\n",
              "      <td>3917</td>\n",
              "      <td>0.0</td>\n",
              "      <td>124.0</td>\n",
              "      <td>360.0</td>\n",
              "      <td>1.0</td>\n",
              "      <td>1</td>\n",
              "      <td>1</td>\n",
              "      <td>1</td>\n",
              "      <td>0</td>\n",
              "      <td>0.0</td>\n",
              "      <td>1.0</td>\n",
              "      <td>0.0</td>\n",
              "    </tr>\n",
              "    <tr>\n",
              "      <th>378</th>\n",
              "      <td>2</td>\n",
              "      <td>1993</td>\n",
              "      <td>1625.0</td>\n",
              "      <td>113.0</td>\n",
              "      <td>180.0</td>\n",
              "      <td>1.0</td>\n",
              "      <td>1</td>\n",
              "      <td>1</td>\n",
              "      <td>1</td>\n",
              "      <td>0</td>\n",
              "      <td>0.0</td>\n",
              "      <td>1.0</td>\n",
              "      <td>0.0</td>\n",
              "    </tr>\n",
              "    <tr>\n",
              "      <th>298</th>\n",
              "      <td>2</td>\n",
              "      <td>3340</td>\n",
              "      <td>1710.0</td>\n",
              "      <td>150.0</td>\n",
              "      <td>360.0</td>\n",
              "      <td>0.0</td>\n",
              "      <td>1</td>\n",
              "      <td>1</td>\n",
              "      <td>0</td>\n",
              "      <td>0</td>\n",
              "      <td>1.0</td>\n",
              "      <td>0.0</td>\n",
              "      <td>0.0</td>\n",
              "    </tr>\n",
              "  </tbody>\n",
              "</table>\n",
              "<p>343 rows × 13 columns</p>\n",
              "</div>"
            ],
            "text/plain": [
              "     Dependents  ApplicantIncome  ...  Property_Area_1  Property_Area_2\n",
              "261           0            20833  ...              0.0              1.0\n",
              "97            0             5695  ...              1.0              0.0\n",
              "257           0             2929  ...              1.0              0.0\n",
              "428           2             2500  ...              0.0              1.0\n",
              "266           0             3366  ...              0.0              0.0\n",
              "..          ...              ...  ...              ...              ...\n",
              "226           0             5050  ...              1.0              0.0\n",
              "401           1             7250  ...              0.0              1.0\n",
              "78            2             3917  ...              1.0              0.0\n",
              "378           2             1993  ...              1.0              0.0\n",
              "298           2             3340  ...              0.0              0.0\n",
              "\n",
              "[343 rows x 13 columns]"
            ]
          },
          "metadata": {
            "tags": []
          },
          "execution_count": 438
        }
      ]
    },
    {
      "cell_type": "markdown",
      "metadata": {
        "id": "T9ij3W0kFHuK"
      },
      "source": [
        "## Validation data"
      ]
    },
    {
      "cell_type": "code",
      "metadata": {
        "colab": {
          "base_uri": "https://localhost:8080/"
        },
        "id": "MEBuaiJ9FKrR",
        "outputId": "7b6439d6-2ff9-4457-9e1c-14c11a3aaaec"
      },
      "source": [
        "handle_missing_values(X_test)"
      ],
      "execution_count": 439,
      "outputs": [
        {
          "output_type": "stream",
          "text": [
            "\n",
            "A value is trying to be set on a copy of a slice from a DataFrame.\n",
            "Try using .loc[row_indexer,col_indexer] = value instead\n",
            "\n",
            "See the caveats in the documentation: https://pandas.pydata.org/pandas-docs/stable/user_guide/indexing.html#returning-a-view-versus-a-copy\n",
            "\n",
            "A value is trying to be set on a copy of a slice from a DataFrame.\n",
            "Try using .loc[row_indexer,col_indexer] = value instead\n",
            "\n",
            "See the caveats in the documentation: https://pandas.pydata.org/pandas-docs/stable/user_guide/indexing.html#returning-a-view-versus-a-copy\n"
          ],
          "name": "stderr"
        }
      ]
    },
    {
      "cell_type": "code",
      "metadata": {
        "colab": {
          "base_uri": "https://localhost:8080/"
        },
        "id": "zgPGvj-qFZe0",
        "outputId": "62bb3342-bf14-46ec-ee4a-b677140c9ac3"
      },
      "source": [
        "map_dependents(X_test)"
      ],
      "execution_count": 440,
      "outputs": [
        {
          "output_type": "stream",
          "text": [
            "\n",
            "A value is trying to be set on a copy of a slice from a DataFrame.\n",
            "Try using .loc[row_indexer,col_indexer] = value instead\n",
            "\n",
            "See the caveats in the documentation: https://pandas.pydata.org/pandas-docs/stable/user_guide/indexing.html#returning-a-view-versus-a-copy\n"
          ],
          "name": "stderr"
        }
      ]
    },
    {
      "cell_type": "code",
      "metadata": {
        "colab": {
          "base_uri": "https://localhost:8080/"
        },
        "id": "ijBdgnopF5Q4",
        "outputId": "ee9ad068-4259-46aa-a74c-9cf2adccac14"
      },
      "source": [
        "X_test['Dependents'].isnull().sum()"
      ],
      "execution_count": 441,
      "outputs": [
        {
          "output_type": "execute_result",
          "data": {
            "text/plain": [
              "0"
            ]
          },
          "metadata": {
            "tags": []
          },
          "execution_count": 441
        }
      ]
    },
    {
      "cell_type": "code",
      "metadata": {
        "colab": {
          "base_uri": "https://localhost:8080/"
        },
        "id": "Cf610yAeFdIb",
        "outputId": "842e0e6b-2758-474f-fa43-d4bfe9a40e8b"
      },
      "source": [
        "X_test = handle_cat_data(X_test)"
      ],
      "execution_count": 442,
      "outputs": [
        {
          "output_type": "stream",
          "text": [
            "Index(['Gender', 'Married', 'Education', 'Self_Employed', 'Property_Area'], dtype='object')\n",
            "Gender\n",
            "Married\n",
            "Education\n",
            "Self_Employed\n",
            "Property_Area\n"
          ],
          "name": "stdout"
        }
      ]
    },
    {
      "cell_type": "markdown",
      "metadata": {
        "id": "9QJX8UFsFlyD"
      },
      "source": [
        "## Test data"
      ]
    },
    {
      "cell_type": "code",
      "metadata": {
        "colab": {
          "base_uri": "https://localhost:8080/"
        },
        "id": "ebR7Uo7yGkTn",
        "outputId": "f1020375-b4e3-4fad-9a18-8ea0dbcdaa20"
      },
      "source": [
        "test_data = test_data.drop(columns=['Loan_ID'])\r\n",
        "handle_missing_values(test_data)\r\n",
        "map_dependents(test_data)\r\n",
        "test_data = handle_cat_data(test_data)"
      ],
      "execution_count": 444,
      "outputs": [
        {
          "output_type": "stream",
          "text": [
            "Index(['Gender', 'Married', 'Education', 'Self_Employed', 'Property_Area'], dtype='object')\n",
            "Gender\n",
            "Married\n",
            "Education\n",
            "Self_Employed\n",
            "Property_Area\n"
          ],
          "name": "stdout"
        }
      ]
    },
    {
      "cell_type": "markdown",
      "metadata": {
        "id": "3hKtkNhIrIMs"
      },
      "source": [
        "## Classifier"
      ]
    },
    {
      "cell_type": "code",
      "metadata": {
        "id": "OrfegTbEts6o"
      },
      "source": [
        "xgc_model = xgb.XGBClassifier(n_estimators=500, max_depth=5, random_state=123)"
      ],
      "execution_count": null,
      "outputs": []
    },
    {
      "cell_type": "code",
      "metadata": {
        "id": "3N48hR5eEvxU"
      },
      "source": [
        "xgc_model.fit(X_train, y_train)"
      ],
      "execution_count": null,
      "outputs": []
    },
    {
      "cell_type": "code",
      "metadata": {
        "id": "CzC6nuRRE2vf"
      },
      "source": [
        "f1_score(y_test, xgc_model.predict(X_test))"
      ],
      "execution_count": null,
      "outputs": []
    },
    {
      "cell_type": "code",
      "metadata": {
        "id": "f6oR6_TcG5oU"
      },
      "source": [
        "predictions = xgc_model.predict(test_data)"
      ],
      "execution_count": 445,
      "outputs": []
    },
    {
      "cell_type": "markdown",
      "metadata": {
        "id": "t29BTdBaKCo3"
      },
      "source": [
        "## Save predictions"
      ]
    },
    {
      "cell_type": "code",
      "metadata": {
        "id": "jdVZK7DqHW6d"
      },
      "source": [
        "predict_data = pd.DataFrame(data=predictions, columns=['prediction'])\r\n",
        "predict_data.to_csv('prediction_results.csv', index=False)"
      ],
      "execution_count": 451,
      "outputs": []
    }
  ]
}